{
 "cells": [
  {
   "cell_type": "markdown",
   "id": "75b65d2d-65ba-4e5a-b808-97bc696312a6",
   "metadata": {},
   "source": [
    "## Python Programming Assignment "
   ]
  },
  {
   "cell_type": "markdown",
   "id": "802e7989-c669-458b-8afc-6af65b51a724",
   "metadata": {},
   "source": [
    "### Prime Numbers"
   ]
  },
  {
   "cell_type": "code",
   "execution_count": 12,
   "id": "c9c7fd29-23d4-477e-a78d-c5edbdeab51b",
   "metadata": {},
   "outputs": [
    {
     "name": "stdin",
     "output_type": "stream",
     "text": [
      "Enter a Number : 17\n"
     ]
    },
    {
     "name": "stdout",
     "output_type": "stream",
     "text": [
      "17 is Prime Number\n"
     ]
    }
   ],
   "source": [
    "number=int(input('Enter a Number :'))\n",
    "# Validating the entered number\n",
    "if number > 1:\n",
    "    for i in range(2,(number//2)):\n",
    "# evaluating the number if it's Prime or NOT\n",
    "        if (number % i)==0:\n",
    "            print(f'{number} is Composit Number')\n",
    "            break\n",
    "    else:\n",
    "        print(f'{number} is Prime Number')\n",
    "# To return error ,by entring other than > 1\n",
    "else:\n",
    "    print(f'{number} is invalid Number (Enter Numbers > 1 )')"
   ]
  },
  {
   "cell_type": "markdown",
   "id": "e8110e78-1fe1-4505-b12f-208266678f2f",
   "metadata": {},
   "source": [
    "### Product of Random numbers"
   ]
  },
  {
   "cell_type": "code",
   "execution_count": 14,
   "id": "ab8fe08d-c1c7-4436-8218-ab281cce55e7",
   "metadata": {},
   "outputs": [
    {
     "name": "stdout",
     "output_type": "stream",
     "text": [
      "The Product of 7 and 8 ?\n"
     ]
    },
    {
     "name": "stdin",
     "output_type": "stream",
     "text": [
      "Your Answer =  8\n"
     ]
    },
    {
     "name": "stdout",
     "output_type": "stream",
     "text": [
      "Incorrect,Try again!\n"
     ]
    }
   ],
   "source": [
    "import random as rnd\n",
    "# For Getting 2 Random Numbers\n",
    "numb_1 = rnd.randint(1,10)\n",
    "numb_2 = rnd.randint(1,10)\n",
    "product=numb_1*numb_2\n",
    "# Asking User For Product of 2 Random numbers\n",
    "print(f'The Product of {numb_1} and {numb_2} ?')\n",
    "user_input=(int(input('Your Answer = ')))\n",
    "# Matching the answer with product to Display the result.\n",
    "if user_input==product:\n",
    "    print('Correct!,Great Job.')\n",
    "else:\n",
    "    print( 'Incorrect,Try again!')\n",
    "        "
   ]
  },
  {
   "cell_type": "markdown",
   "id": "9a2eb206-0beb-475c-bcfd-e3cbc53fd08d",
   "metadata": {},
   "source": [
    "### Squares of Even Numbers"
   ]
  },
  {
   "cell_type": "code",
   "execution_count": 15,
   "id": "eeafce49-8c9c-4652-baf6-845ef1d29c62",
   "metadata": {},
   "outputs": [
    {
     "name": "stdout",
     "output_type": "stream",
     "text": [
      "Squares of Even Numbers Range from 100 to 200\n",
      "100=10000\n",
      "102=10404\n",
      "104=10816\n",
      "106=11236\n",
      "108=11664\n",
      "110=12100\n",
      "112=12544\n",
      "114=12996\n",
      "116=13456\n",
      "118=13924\n",
      "120=14400\n",
      "122=14884\n",
      "124=15376\n",
      "126=15876\n",
      "128=16384\n",
      "130=16900\n",
      "132=17424\n",
      "134=17956\n",
      "136=18496\n",
      "138=19044\n",
      "140=19600\n",
      "142=20164\n",
      "144=20736\n",
      "146=21316\n",
      "148=21904\n",
      "150=22500\n",
      "152=23104\n",
      "154=23716\n",
      "156=24336\n",
      "158=24964\n",
      "160=25600\n",
      "162=26244\n",
      "164=26896\n",
      "166=27556\n",
      "168=28224\n",
      "170=28900\n",
      "172=29584\n",
      "174=30276\n",
      "176=30976\n",
      "178=31684\n",
      "180=32400\n",
      "182=33124\n",
      "184=33856\n",
      "186=34596\n",
      "188=35344\n",
      "190=36100\n",
      "192=36864\n",
      "194=37636\n",
      "196=38416\n",
      "198=39204\n",
      "200=40000\n"
     ]
    }
   ],
   "source": [
    "print('Squares of Even Numbers Range from 100 to 200')\n",
    "for x in range(100,201):\n",
    "# For finding the Even Numbers.\n",
    "    if x % 2 == 0:\n",
    "# For printing the Squares of even numbers\n",
    "        print(f'{x}={x**2}')"
   ]
  },
  {
   "cell_type": "markdown",
   "id": "f1188145-086c-4a44-80c4-3f39f0e2308d",
   "metadata": {},
   "source": [
    "### Word Counter"
   ]
  },
  {
   "cell_type": "code",
   "execution_count": 16,
   "id": "2d93c678-dda6-4637-8c4b-d3a739fdbb6e",
   "metadata": {},
   "outputs": [
    {
     "name": "stdin",
     "output_type": "stream",
     "text": [
      "Enter the text: 'MY NAME IS MONTY. I am an Human'\n"
     ]
    },
    {
     "name": "stdout",
     "output_type": "stream",
     "text": [
      "my: 1\n",
      "name: 1\n",
      "is: 1\n",
      "monty: 1\n",
      "i: 1\n",
      "am: 1\n",
      "an: 1\n",
      "human: 1\n"
     ]
    }
   ],
   "source": [
    "# By using a Dictionary to get excepted results as shown in question.\n",
    "input_text = input('Enter the text:')\n",
    "# Removing all punctuation and convert text to lower case\n",
    "clean_text = ''.join(char.lower() \n",
    "             if char.isalnum() or char.isspace() \n",
    "             else ' ' for char in input_text)\n",
    "words = clean_text.split()\n",
    "word_count = {}\n",
    "# Count word by dictionary\n",
    "for word in words:\n",
    "    word_count[word] = word_count.get(word, 0) + 1\n",
    "# Printing words in a frequency\n",
    "for word, count in word_count.items():\n",
    "    print(f'{word}: {count}')"
   ]
  },
  {
   "cell_type": "markdown",
   "id": "f21631ec-0a46-4d07-8b32-9815dbed1e75",
   "metadata": {},
   "source": [
    "### Check For Palindrome"
   ]
  },
  {
   "cell_type": "code",
   "execution_count": 17,
   "id": "f9c998c9-74f6-4297-8b5c-755f73bcbbfb",
   "metadata": {},
   "outputs": [
    {
     "name": "stdin",
     "output_type": "stream",
     "text": [
      "Enter the Text : 'Mad am'\n"
     ]
    },
    {
     "name": "stdout",
     "output_type": "stream",
     "text": [
      "True\n"
     ]
    }
   ],
   "source": [
    "string=input('Enter the Text :')\n",
    "def is_palindrome(string):\n",
    "    string=string.lower().replace(' ','')\n",
    "    return string == string[::-1]\n",
    "print(is_palindrome(string))\n",
    "\n",
    "# The Function is created by using 'STRING SLICING technique'"
   ]
  }
 ],
 "metadata": {
  "kernelspec": {
   "display_name": "Python 3 (ipykernel)",
   "language": "python",
   "name": "python3"
  },
  "language_info": {
   "codemirror_mode": {
    "name": "ipython",
    "version": 3
   },
   "file_extension": ".py",
   "mimetype": "text/x-python",
   "name": "python",
   "nbconvert_exporter": "python",
   "pygments_lexer": "ipython3",
   "version": "3.12.7"
  }
 },
 "nbformat": 4,
 "nbformat_minor": 5
}
