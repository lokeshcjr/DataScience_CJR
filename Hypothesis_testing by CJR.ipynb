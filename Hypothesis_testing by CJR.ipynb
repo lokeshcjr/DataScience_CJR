{
 "cells": [
  {
   "cell_type": "markdown",
   "id": "f09a497e-52a4-4a30-bf37-871a2a13b0a7",
   "metadata": {},
   "source": [
    "# Hypothesis Testing"
   ]
  },
  {
   "cell_type": "code",
   "execution_count": 25,
   "id": "c1323bb4-7591-44d3-859e-079ae33c4ce2",
   "metadata": {},
   "outputs": [
    {
     "name": "stdout",
     "output_type": "stream",
     "text": [
      "Test stastics (Z Score): -38.0\n",
      "Critical_value (Z Critical val): 1.645\n",
      "Decision : Fail to Reject Null Hypothesis.There is no evidence that weekly Expenditure is increasing\n"
     ]
    }
   ],
   "source": [
    "import numpy as np\n",
    "import scipy.stats as stats\n",
    "# Data from Problem statement\n",
    "sample_mean=3050\n",
    "X_mean=600\n",
    "X_std=25\n",
    "sample_size=25\n",
    "alpha=0.05\n",
    "theoretical_mean=1000+5*(X_mean)\n",
    "std_deviation=5*(X_std)\n",
    "#Calculate Test Statistic (Z_Score)\n",
    "z=((sample_mean-theoretical_mean)/(std_deviation/np.sqrt(sample_size)))\n",
    "# Finding critical from Z_distribution table\n",
    "z_critical=stats.norm.ppf(1-alpha)\n",
    "# Making Decision\n",
    "if z>z_critical:\n",
    "    Decision=' Reject Null Hypothesis.The weekly operation cost is higher.'\n",
    "else:\n",
    "    Decision='Fail to Reject Null Hypothesis.There is no evidence that weekly Expenditure is increasing as said by Owner'\n",
    "\n",
    "print(f'Test stastics (Z Score): {z}')\n",
    "print(f'Critical_value (Z Critical val): {z_critical:.3f}')\n",
    "print('Decision :',Decision)"
   ]
  },
  {
   "cell_type": "markdown",
   "id": "60b38e81-3faf-43ca-a78c-82b4944d9a90",
   "metadata": {},
   "source": [
    "#### Conclusion:\n",
    "        Based on the decision.I conclude that there is no strong evidence to support the restaurant owners claim that the weekly operating costs are higher than the model suggests."
   ]
  },
  {
   "cell_type": "markdown",
   "id": "0278dd0a-962b-429f-b910-44cf02a2190e",
   "metadata": {},
   "source": [
    "# Chi-Square Test"
   ]
  },
  {
   "cell_type": "code",
   "execution_count": 31,
   "id": "a1b431c0-9d41-4c0a-b3b7-79fe5f795313",
   "metadata": {},
   "outputs": [
    {
     "name": "stdout",
     "output_type": "stream",
     "text": [
      "Chi Square Value :5.638\n",
      "DOF : 0.228\n",
      "Critical Value :1.31\n",
      "Decision :Reject Null Hypothesis.There is no singificant assocation between Product type and customer satisfaction.\n"
     ]
    }
   ],
   "source": [
    "import numpy as np\n",
    "import scipy.stats as stats\n",
    "# H0=There is no singificant assocation between Product type and customer satisfaction.\n",
    "# H1=There is a significant assocation between product type and customer satisfaction.\n",
    "# Creating observation frequency table\n",
    "observations=np.array([[50,70],\n",
    "                      [80,100],\n",
    "                      [60,90],\n",
    "                      [30,50],\n",
    "                      [20,50]])\n",
    "# Determining chi_square and other values.\n",
    "chi2_stats,dof,expected_val,p_value=stats.chi2_contingency(observations)\n",
    "alpha=0.05\n",
    "# Calculating Critical value from PPF\n",
    "critical_val=stats.chi2.ppf(1-alpha,dof)\n",
    "# Making Decision based on below condition\n",
    "if chi2_stats > critical_val:\n",
    "    Decision='Reject Null Hypothesis.There is no singificant assocation between Product type and customer satisfaction.'\n",
    "else:\n",
    "    Decision='Fail to reject Null hypothesis.There is a significant assocation between product type and customer satisfaction.'\n",
    "# Output\n",
    "print(f'Chi Square Value :{chi2_stats:.3f}')\n",
    "print(f'DOF : {dof:.3f}')\n",
    "print(f'Critical Value :{critical_val:.2f}')\n",
    "print(f'Decision :{Decision}')\n"
   ]
  },
  {
   "cell_type": "code",
   "execution_count": null,
   "id": "d3780e8e-2542-40f7-b758-36113d4fdb0b",
   "metadata": {},
   "outputs": [],
   "source": []
  }
 ],
 "metadata": {
  "kernelspec": {
   "display_name": "Python 3 (ipykernel)",
   "language": "python",
   "name": "python3"
  },
  "language_info": {
   "codemirror_mode": {
    "name": "ipython",
    "version": 3
   },
   "file_extension": ".py",
   "mimetype": "text/x-python",
   "name": "python",
   "nbconvert_exporter": "python",
   "pygments_lexer": "ipython3",
   "version": "3.12.7"
  }
 },
 "nbformat": 4,
 "nbformat_minor": 5
}
