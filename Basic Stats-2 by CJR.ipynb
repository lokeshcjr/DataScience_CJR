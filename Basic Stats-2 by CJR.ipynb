{
 "cells": [
  {
   "cell_type": "markdown",
   "id": "96c176b2-b919-46ee-8ed8-28d5d66e2b9b",
   "metadata": {},
   "source": [
    "# Estimation And Confidence Intervals"
   ]
  },
  {
   "cell_type": "markdown",
   "id": "b6a8a50e-11d3-4c78-a75b-b2dcbb8f9cf6",
   "metadata": {},
   "source": [
    "### t-Distribution"
   ]
  },
  {
   "cell_type": "code",
   "execution_count": 4,
   "id": "f0b25269-3a5c-49b2-9b8c-210787b45f8c",
   "metadata": {},
   "outputs": [
    {
     "name": "stdout",
     "output_type": "stream",
     "text": [
      "t_Value :  -2.976842734370834\n",
      "Sample Mean :1.239\n",
      "Sample Standard Deviation : 0.193\n",
      "99% Confidence Interval using t-Distribution :(1.090 , 1.387)\n"
     ]
    }
   ],
   "source": [
    "import numpy as np\n",
    "from scipy.stats import norm,t\n",
    "# Loading the data\n",
    "prit_head_samp=[1.13, 1.55, 1.43, 0.92, 1.25, 1.36, 1.32, 0.85, 1.07, 1.48, 1.20, 1.33, 1.18, 1.22, 1.29]\n",
    "# calculating Sample Mean,sample size and Sample Standard deviation\n",
    "n=len(prit_head_samp)\n",
    "samp_mean=np.mean(prit_head_samp)\n",
    "samp_std=np.std(prit_head_samp,ddof=1)\n",
    "# defining degree of freedom and its Confidence level\n",
    "df=n-1\n",
    "confidence_level=0.99\n",
    "# calculating Significance value\n",
    "alpha=1-confidence_level\n",
    "# finding t_Value for confidence level\n",
    "delta_t=t.ppf((alpha/2),df)\n",
    "# Calculating Confidence interval \n",
    "t_lower=samp_mean-(delta_t*(samp_std/np.sqrt(n)))\n",
    "t_higher=samp_mean+(delta_t*(samp_std/np.sqrt(n)))\n",
    "print('t_Value : ',delta_t)\n",
    "print(f'Sample Mean :{samp_mean:.3f}')\n",
    "print(f'Sample Standard Deviation : {samp_std:.3f}')\n",
    "print(f'99% Confidence Interval using t-Distribution :({t_higher:.3f} , {t_lower:.3f})')"
   ]
  },
  {
   "cell_type": "markdown",
   "id": "b67e2a4b-b90c-4cb3-9d21-e4b346cf9355",
   "metadata": {},
   "source": [
    "#### Steps in t-Distribution:\n",
    "    1.Calculating Sample Mean,Sample Std Deviation and size of sample. \n",
    "    2.Finding Degree of freedom and Significance value.\n",
    "    3.Then calculate t-value from ppf through t module\n",
    "    4.Finally estimate Confidence interval\n",
    "#### The relation behind using t-Distribution\n",
    "     The main reason for using t-Distrution is Population Standard Deviation is unknown and \n",
    "     Also size of sample is less than 30."
   ]
  },
  {
   "cell_type": "markdown",
   "id": "db4037d1-4b5e-44e7-93cb-db4f0efb13ef",
   "metadata": {},
   "source": [
    "### z-Distribution"
   ]
  },
  {
   "cell_type": "code",
   "execution_count": 8,
   "id": "c5fe8441-cdc9-4687-bd9c-e506a92f9a5e",
   "metadata": {},
   "outputs": [
    {
     "name": "stdout",
     "output_type": "stream",
     "text": [
      "z_value : -2.576\n",
      " 99% Confidence interval using z-Distribution :(1.106 , 1.372)\n"
     ]
    }
   ],
   "source": [
    "# defining population Std.deviation\n",
    "population_std=0.2\n",
    "# Finding z_value for confidence level\n",
    "delta_z=norm.ppf(alpha/2)\n",
    "# Calculating Confidence Interval\n",
    "z_higher=samp_mean+(delta_z*(population_std/np.sqrt(n)))\n",
    "z_lower=samp_mean-(delta_z*(population_std/np.sqrt(n)))\n",
    "print(f'z_value : {delta_z :.3f}')\n",
    "print(f' 99% Confidence interval using z-Distribution :({z_higher:.3f} , {z_lower:.3f})')"
   ]
  }
 ],
 "metadata": {
  "kernelspec": {
   "display_name": "Python 3 (ipykernel)",
   "language": "python",
   "name": "python3"
  },
  "language_info": {
   "codemirror_mode": {
    "name": "ipython",
    "version": 3
   },
   "file_extension": ".py",
   "mimetype": "text/x-python",
   "name": "python",
   "nbconvert_exporter": "python",
   "pygments_lexer": "ipython3",
   "version": "3.12.7"
  }
 },
 "nbformat": 4,
 "nbformat_minor": 5
}
